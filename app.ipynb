{
 "cells": [
  {
   "cell_type": "code",
   "execution_count": null,
   "id": "9010d06f-0229-41de-a72b-94ebe3585085",
   "metadata": {},
   "outputs": [],
   "source": []
  }
 ],
 "metadata": {
  "kernelspec": {
   "display_name": "",
   "name": ""
  },
  "language_info": {
   "name": ""
  }
 },
 "nbformat": 4,
 "nbformat_minor": 5
}
